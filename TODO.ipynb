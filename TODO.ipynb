{
 "cells": [
  {
   "attachments": {},
   "cell_type": "markdown",
   "metadata": {},
   "source": [
    "### Completed\n",
    "- Function that bashes out all Z-relations\n",
    "- Helper functions including \n",
    "    - normal form\n",
    "    - prime form\n",
    "    - interval vector\n",
    "    - checking windowing\n",
    "- Function that finds every possible Z-related tetrachord\n",
    "\n",
    "\n",
    "### TODO:\n",
    "- Visualizations\n",
    "    - label notes\n",
    "    - color them?\n",
    "    - keep track of notes\n",
    "- Smarter tetrachord detection\n",
    "    - interweaving\n",
    "    - across parts\n",
    "    - within the same part\n",
    "- Different window sizes (notes vs. measures)\n",
    "- Video\n",
    "    - background on Z-relations\n",
    "    - update from friday 5/5\n",
    "    - code explanation + visualization\n",
    "    - demo?"
   ]
  },
  {
   "attachments": {},
   "cell_type": "markdown",
   "metadata": {},
   "source": []
  }
 ],
 "metadata": {
  "language_info": {
   "name": "python"
  },
  "orig_nbformat": 4
 },
 "nbformat": 4,
 "nbformat_minor": 2
}
