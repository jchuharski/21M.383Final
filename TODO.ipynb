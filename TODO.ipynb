{
 "cells": [
  {
   "cell_type": "markdown",
   "metadata": {},
   "source": [
    "### Completed\n",
    "- Function that bashes out all Z-relations\n",
    "- Helper functions including \n",
    "    - normal form\n",
    "    - prime form\n",
    "    - interval vector\n",
    "    - checking windowing\n",
    "- Function that finds every possible Z-related tetrachord\n",
    "- Visualizations\n",
    "    - label notes\n",
    "    - keep track of notes\n",
    "- Different window sizes (notes vs. measures)\n",
    "\n",
    "\n",
    "### TODO:\n",
    "- Visualizations\n",
    "    - color them?\n",
    "- Computational optimizations?\n",
    "- Smarter tetrachord detection\n",
    "    - interweaving\n",
    "    - across parts\n",
    "    - within the same part\n",
    "- Video\n",
    "    - background on Z-relations\n",
    "    - update from friday 5/5\n",
    "    - code explanation + visualization\n",
    "    - demo?"
   ]
  },
  {
   "cell_type": "markdown",
   "metadata": {},
   "source": []
  }
 ],
 "metadata": {
  "kernelspec": {
   "display_name": "Python 3 (ipykernel)",
   "language": "python",
   "name": "python3"
  },
  "language_info": {
   "codemirror_mode": {
    "name": "ipython",
    "version": 3
   },
   "file_extension": ".py",
   "mimetype": "text/x-python",
   "name": "python",
   "nbconvert_exporter": "python",
   "pygments_lexer": "ipython3",
   "version": "3.11.2"
  }
 },
 "nbformat": 4,
 "nbformat_minor": 2
}
