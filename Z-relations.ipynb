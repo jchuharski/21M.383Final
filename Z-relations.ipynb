{
 "cells": [
  {
   "cell_type": "code",
   "execution_count": 2,
   "metadata": {},
   "outputs": [],
   "source": [
    "from music21 import *"
   ]
  },
  {
   "cell_type": "code",
   "execution_count": 3,
   "metadata": {},
   "outputs": [],
   "source": [
    "def find_Z_relation(sc):\n",
    "    \"\"\"Given a score object, identifies and labels where Z relations occur in the piece.\"\"\"\n",
    "    pass"
   ]
  },
  {
   "cell_type": "code",
   "execution_count": 4,
   "metadata": {},
   "outputs": [],
   "source": [
    "def get_interval_vector(pitch_list):\n",
    "    \"\"\"Given a list of pitches, returns the interval vector between all of the pitches\"\"\"\n",
    "    \n",
    "    pass"
   ]
  },
  {
   "attachments": {},
   "cell_type": "markdown",
   "metadata": {},
   "source": [
    "# Helper Functions"
   ]
  },
  {
   "attachments": {},
   "cell_type": "markdown",
   "metadata": {},
   "source": [
    "### - Normal Form\n",
    "https://musictheory.pugetsound.edu/mt21c/NormalForm.html"
   ]
  },
  {
   "cell_type": "code",
   "execution_count": 17,
   "metadata": {},
   "outputs": [],
   "source": [
    "def perm_list(pitch_list, rotation_amount=1):\n",
    "    \"\"\"Rotates a list by rotation_amount\"\"\"\n",
    "    return pitch_list[rotation_amount:] + pitch_list[:rotation_amount]"
   ]
  },
  {
   "cell_type": "code",
   "execution_count": 19,
   "metadata": {},
   "outputs": [],
   "source": [
    "def check_compactness(pitch_classes, index = -1):\n",
    "    \"\"\"Checks distance between first and last notes\"\"\"\n",
    "    return (pitch_classes[index] - pitch_classes[0]) % 12"
   ]
  },
  {
   "cell_type": "code",
   "execution_count": 29,
   "metadata": {},
   "outputs": [],
   "source": [
    "def check_equal(list1, list2, index):\n",
    "    \"\"\"Checks equality if there is a tie for the best intervals between pitches when finding the normal form\"\"\"\n",
    "    if index == -len(list1): # if the lists have equal pitches classes all the way down. Take the one with the lowest starting pitch class\n",
    "        if list1[0] < list2[0]:\n",
    "            return list1\n",
    "        return list2\n",
    "    if check_compactness(list1, index) == check_compactness(list2, index):\n",
    "        return check_equal(list1, list2, index-1)\n",
    "    elif check_compactness(list1, index) < check_compactness(list2, index):\n",
    "        return list1\n",
    "    return list2"
   ]
  },
  {
   "cell_type": "code",
   "execution_count": 81,
   "metadata": {},
   "outputs": [],
   "source": [
    "def most_compact(pitches):\n",
    "    best_interval, best_pitches = check_compactness(pitches), pitches\n",
    "    for i in range(len(pitches)):\n",
    "        rotation = perm_list(pitches, i)\n",
    "        compactness = check_compactness(rotation)\n",
    "        if compactness < best_interval:\n",
    "            best_interval = compactness\n",
    "            best_pitches = rotation\n",
    "        if compactness == best_interval:\n",
    "            best_pitches = check_equal(best_pitches, rotation, index=-2)\n",
    "    return best_pitches"
   ]
  },
  {
   "cell_type": "code",
   "execution_count": 82,
   "metadata": {},
   "outputs": [],
   "source": [
    "def reduce_to_normal_form(pitch_list):\n",
    "    \"\"\"\n",
    "    Given a list of musci21 pitch objects, reduces them to their normal form as a \n",
    "    list of integers.\n",
    "    \"\"\"\n",
    "    pitch_classes = sorted(list(set(x.pitchClass for x in pitch_list)))\n",
    "    normal_form = most_compact(pitch_classes)\n",
    "    return normal_form\n"
   ]
  },
  {
   "cell_type": "code",
   "execution_count": 83,
   "metadata": {},
   "outputs": [],
   "source": [
    "# Tests for normal form\n",
    "def test_normal_form():\n",
    "    \"\"\"Runs test cases for the reduction to normal form\"\"\"\n",
    "    P = pitch.Pitch\n",
    "    pc_ex = [P('C4'), P('C#4'), P('C3'), P('B3')]\n",
    "    pc1 = [P('Ab4'), P('D4'),P('Eb5'), P('A4')]\n",
    "    pc2 = [P('B5'), P('G4'), P('D5'), P('Eb'), P('D6')]\n",
    "    assert reduce_to_normal_form(pc1) == [2,3,8,9]\n",
    "    assert reduce_to_normal_form(pc_ex) == [11,0,1]\n",
    "    assert reduce_to_normal_form(pc2) == [11,2,3,7]\n",
    "    pass\n",
    "test_normal_form()"
   ]
  },
  {
   "attachments": {},
   "cell_type": "markdown",
   "metadata": {},
   "source": [
    "### - Prime Form\n",
    "\n",
    "https://musictheory.pugetsound.edu/mt21c/PrimeForm.html"
   ]
  },
  {
   "cell_type": "code",
   "execution_count": 85,
   "metadata": {},
   "outputs": [],
   "source": [
    "def transpose_normal(pitch_classes):\n",
    "    \"\"\"Given a list of pitch classes in normal form, transposes them to start on C.\"\"\"\n",
    "    return [(x+12 - pitch_classes[0])%12 for x in pitch_classes]\n"
   ]
  },
  {
   "cell_type": "code",
   "execution_count": 87,
   "metadata": {},
   "outputs": [],
   "source": [
    "def invert_transpose(pitch_classes):\n",
    "    \"\"\"Given a list of pitch classes in normal form, transposes them to start on C, then inverts \n",
    "    them, then put the inverted form into increasing order.\"\"\"\n",
    "    transposed = [(x+12 - pitch_classes[0])%12 for x in pitch_classes]\n",
    "    inverted = [(-x)%12 for x in transposed]\n",
    "    increasing = perm_list(sorted(inverted), 1)\n",
    "    return increasing, transposed"
   ]
  },
  {
   "cell_type": "code",
   "execution_count": 73,
   "metadata": {},
   "outputs": [
    {
     "data": {
      "text/plain": [
       "[4, 8, 9, 0]"
      ]
     },
     "execution_count": 73,
     "metadata": {},
     "output_type": "execute_result"
    }
   ],
   "source": [
    "lis = [0,3,4,8]\n",
    "invert_transpose([0,3,4,8])"
   ]
  },
  {
   "cell_type": "code",
   "execution_count": 90,
   "metadata": {},
   "outputs": [],
   "source": [
    "def reduce_to_prime_form(pitch_list, was_tie = False):\n",
    "    \n",
    "    inverted, transposed_normal  = invert_transpose(pitch_list)\n",
    "    best_inverted = most_compact(inverted)\n",
    "    if check_compactness(best_inverted,) == check_compactness(transposed_normal):\n",
    "        anslist = check_equal(best_inverted, transposed_normal, index=-2)\n",
    "    elif check_compactness(best_inverted,) < check_compactness(transposed_normal):\n",
    "        anslist = best_inverted\n",
    "    elif check_compactness(best_inverted,) > check_compactness(transposed_normal):\n",
    "        anslist =  transposed_normal\n",
    "    prime_form = ''\n",
    "    for x in anslist:\n",
    "        if x ==10:\n",
    "            x = 'T'\n",
    "        elif x == 11:\n",
    "            x = 'E'\n",
    "        prime_form = prime_form + str(x)\n",
    "    return prime_form\n",
    "\n",
    "    "
   ]
  },
  {
   "cell_type": "code",
   "execution_count": null,
   "metadata": {},
   "outputs": [],
   "source": [
    "def test_prime_form():\n",
    "\n",
    "    pass"
   ]
  }
 ],
 "metadata": {
  "kernelspec": {
   "display_name": "base",
   "language": "python",
   "name": "python3"
  },
  "language_info": {
   "codemirror_mode": {
    "name": "ipython",
    "version": 3
   },
   "file_extension": ".py",
   "mimetype": "text/x-python",
   "name": "python",
   "nbconvert_exporter": "python",
   "pygments_lexer": "ipython3",
   "version": "3.8.8"
  },
  "orig_nbformat": 4
 },
 "nbformat": 4,
 "nbformat_minor": 2
}
