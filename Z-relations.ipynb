{
 "cells": [
  {
   "cell_type": "code",
   "execution_count": 2,
   "metadata": {},
   "outputs": [],
   "source": [
    "from music21 import *\n",
    "from itertools import permutations"
   ]
  },
  {
   "cell_type": "code",
   "execution_count": 3,
   "metadata": {},
   "outputs": [],
   "source": [
    "carter = converter.parse('carter_gra_mxl.mxl')"
   ]
  },
  {
   "attachments": {},
   "cell_type": "markdown",
   "metadata": {},
   "source": [
    "# Helper Functions"
   ]
  },
  {
   "attachments": {},
   "cell_type": "markdown",
   "metadata": {},
   "source": [
    "### - Normal Form"
   ]
  },
  {
   "cell_type": "code",
   "execution_count": 4,
   "metadata": {},
   "outputs": [],
   "source": [
    "def perm_list(pitch_list, rotation_amount=1):\n",
    "    \"\"\"Rotates a list by rotation_amount\"\"\"\n",
    "    return pitch_list[rotation_amount:] + pitch_list[:rotation_amount]"
   ]
  },
  {
   "cell_type": "code",
   "execution_count": 5,
   "metadata": {},
   "outputs": [],
   "source": [
    "def check_compactness(pitch_classes, index = -1):\n",
    "    \"\"\"Checks distance between first and last notes\"\"\"\n",
    "    return (pitch_classes[index] - pitch_classes[0]) % 12"
   ]
  },
  {
   "cell_type": "code",
   "execution_count": 6,
   "metadata": {},
   "outputs": [],
   "source": [
    "def check_equal(list1, list2, index):\n",
    "    \"\"\"Checks equality if there is a tie for the best intervals between pitches when finding the normal form\"\"\"\n",
    "    if index == -len(list1): # if the lists have equal pitches classes all the way down. Take the one with the lowest starting pitch class\n",
    "        if list1[0] < list2[0]:\n",
    "            return list1\n",
    "        return list2\n",
    "    if check_compactness(list1, index) == check_compactness(list2, index):\n",
    "        return check_equal(list1, list2, index-1)\n",
    "    elif check_compactness(list1, index) < check_compactness(list2, index):\n",
    "        return list1\n",
    "    return list2"
   ]
  },
  {
   "cell_type": "code",
   "execution_count": 7,
   "metadata": {},
   "outputs": [],
   "source": [
    "def most_compact(pitches):\n",
    "    best_interval, best_pitches = check_compactness(pitches), pitches\n",
    "    for i in range(len(pitches)):\n",
    "        rotation = perm_list(pitches, i)\n",
    "        compactness = check_compactness(rotation)\n",
    "        if compactness < best_interval:\n",
    "            best_interval = compactness\n",
    "            best_pitches = rotation\n",
    "        if compactness == best_interval:\n",
    "            best_pitches = check_equal(best_pitches, rotation, index=-2)\n",
    "    return best_pitches"
   ]
  },
  {
   "cell_type": "code",
   "execution_count": 8,
   "metadata": {},
   "outputs": [],
   "source": [
    "def reduce_to_normal_form(pitch_list):\n",
    "    \"\"\"\n",
    "    Given a list of musci21 pitch objects, reduces them to their normal form as a \n",
    "    list of integers.\n",
    "    \"\"\"\n",
    "    pitch_classes = sorted(list(set(x.pitchClass for x in pitch_list)))\n",
    "    normal_form = most_compact(pitch_classes)\n",
    "    return normal_form\n"
   ]
  },
  {
   "cell_type": "code",
   "execution_count": 9,
   "metadata": {},
   "outputs": [],
   "source": [
    "# Tests for normal form\n",
    "def test_normal_form():\n",
    "    \"\"\"Runs test cases for the reduction to normal form\"\"\"\n",
    "    P = pitch.Pitch\n",
    "    pc_ex = [P('C4'), P('C#4'), P('C3'), P('B3')]\n",
    "    pc1 = [P('Ab4'), P('D4'),P('Eb5'), P('A4')]\n",
    "    pc2 = [P('B5'), P('G4'), P('D5'), P('Eb'), P('D6')]\n",
    "    assert reduce_to_normal_form(pc1) == [2,3,8,9]\n",
    "    assert reduce_to_normal_form(pc_ex) == [11,0,1]\n",
    "    assert reduce_to_normal_form(pc2) == [11,2,3,7]\n",
    "    pass\n",
    "test_normal_form()"
   ]
  },
  {
   "attachments": {},
   "cell_type": "markdown",
   "metadata": {},
   "source": [
    "### - Prime Form\n"
   ]
  },
  {
   "cell_type": "code",
   "execution_count": 10,
   "metadata": {},
   "outputs": [],
   "source": [
    "def transpose_normal(pitch_classes):\n",
    "    \"\"\"Given a list of pitch classes in normal form, transposes them to start on C.\"\"\"\n",
    "    return [(x+12 - pitch_classes[0])%12 for x in pitch_classes]\n"
   ]
  },
  {
   "cell_type": "code",
   "execution_count": 11,
   "metadata": {},
   "outputs": [],
   "source": [
    "def invert_transpose(pitch_classes):\n",
    "    \"\"\"Given a list of pitch classes in normal form, transposes them to start on C, then inverts \n",
    "    them, then put the inverted form into increasing order.\"\"\"\n",
    "    transposed = [(x+12 - pitch_classes[0])%12 for x in pitch_classes]\n",
    "    inverted = [(-x)%12 for x in transposed]\n",
    "    increasing = perm_list(sorted(inverted), 1)\n",
    "    return increasing, transposed"
   ]
  },
  {
   "cell_type": "code",
   "execution_count": 12,
   "metadata": {},
   "outputs": [
    {
     "data": {
      "text/plain": [
       "([4, 8, 9, 0], [0, 3, 4, 8])"
      ]
     },
     "execution_count": 12,
     "metadata": {},
     "output_type": "execute_result"
    }
   ],
   "source": [
    "lis = [0,3,4,8]\n",
    "invert_transpose([0,3,4,8])"
   ]
  },
  {
   "cell_type": "code",
   "execution_count": 13,
   "metadata": {},
   "outputs": [],
   "source": [
    "def reduce_to_prime_form(pitch_list, stringify = False):\n",
    "    \"\"\"reduces a pitch list to prime form. If stringify = True, then returns the answer as a string. \"\"\"\n",
    "    \n",
    "    inverted, transposed_normal  = invert_transpose(pitch_list)\n",
    "    best_inverted = most_compact(inverted)\n",
    "    if check_compactness(best_inverted,) == check_compactness(transposed_normal):\n",
    "        anslist = check_equal(best_inverted, transposed_normal, index=-2)\n",
    "    elif check_compactness(best_inverted,) < check_compactness(transposed_normal):\n",
    "        anslist = best_inverted\n",
    "    elif check_compactness(best_inverted,) > check_compactness(transposed_normal):\n",
    "        anslist =  transposed_normal\n",
    "    transpose2 = transpose_normal(anslist)\n",
    "    if not stringify:\n",
    "        return transpose2\n",
    "    prime_form = ''\n",
    "    for x in transpose2:\n",
    "        if x ==10:\n",
    "            x = 'T'\n",
    "        elif x == 11:\n",
    "            x = 'E'\n",
    "        prime_form = prime_form + str(x)\n",
    "    return prime_form\n",
    "\n",
    "    "
   ]
  },
  {
   "cell_type": "code",
   "execution_count": 14,
   "metadata": {},
   "outputs": [],
   "source": [
    "def test_prime_form():\n",
    "    \"\"\"Tests the function reduce_to_prime_form\"\"\"\n",
    "    assert reduce_to_prime_form([11,2,3,7], stringify=True) == '0148'\n",
    "    assert reduce_to_prime_form([11,2,3,7]) == [0,1,4,8]\n",
    "    pass\n"
   ]
  },
  {
   "cell_type": "code",
   "execution_count": 15,
   "metadata": {},
   "outputs": [],
   "source": [
    "#TODO: add more test cases\n",
    "test_prime_form()"
   ]
  },
  {
   "attachments": {},
   "cell_type": "markdown",
   "metadata": {},
   "source": [
    "### - Interval Vectors"
   ]
  },
  {
   "cell_type": "code",
   "execution_count": 16,
   "metadata": {},
   "outputs": [],
   "source": [
    "def get_interval_vector(pitch_list, zero = False):\n",
    "    \"\"\"Given a list of pitches, returns the interval vector between all of the pitches. \n",
    "    If zero = true, returns the interval vector that includes 0.\n",
    "    \"\"\"\n",
    "    intervals = {}\n",
    "    for i in range(len(pitch_list)):\n",
    "        for j in range(len(pitch_list)-i):\n",
    "            diff = pitch_list[j+i]-pitch_list[i]\n",
    "            if diff >6:\n",
    "                diff = 12-diff\n",
    "            if diff in intervals:\n",
    "                intervals[diff] +=1\n",
    "            else:\n",
    "                intervals[diff] = 1\n",
    "    interval_vector = []\n",
    "    for i in range(7):\n",
    "        if i in intervals:\n",
    "            interval_vector.append(intervals[i])\n",
    "        else:\n",
    "            interval_vector.append(0)\n",
    "    if zero:\n",
    "        return interval_vector\n",
    "    return interval_vector[1:]"
   ]
  },
  {
   "cell_type": "code",
   "execution_count": 17,
   "metadata": {},
   "outputs": [],
   "source": [
    "P = pitch.Pitch\n",
    "def test_interval_vector():\n",
    "    a = reduce_to_prime_form([11,2,3,7], stringify=False)\n",
    "    g_half_dim = [P('G4'), P('Bb4'), P('Db5'), P('F5') ]\n",
    "    G_normal = reduce_to_normal_form(g_half_dim)\n",
    "    G_prime = reduce_to_prime_form(G_normal)\n",
    "    assert get_interval_vector(G_prime) == [0,1,2,1,1,1]\n",
    "    assert get_interval_vector(a) == [1,0,1,3,1,0]\n",
    "test_interval_vector()"
   ]
  },
  {
   "cell_type": "code",
   "execution_count": 18,
   "metadata": {},
   "outputs": [],
   "source": [
    "def pitch_to_int_vec(pitch_list):\n",
    "    \"\"\"Combines the whole normal -> prime -> interval vector pathway. Takes in a pitch list and returns its interval vector.\"\"\"\n",
    "    return get_interval_vector(reduce_to_prime_form(reduce_to_normal_form(pitch_list)))"
   ]
  },
  {
   "cell_type": "code",
   "execution_count": 19,
   "metadata": {},
   "outputs": [],
   "source": [
    "def test_ptiv():\n",
    "    g_half_dim = [P('G4'), P('Bb4'), P('Db5'), P('F5') ]\n",
    "    assert pitch_to_int_vec(g_half_dim) == [0,1,2,1,1,1]\n",
    "test_ptiv()"
   ]
  },
  {
   "attachments": {},
   "cell_type": "markdown",
   "metadata": {},
   "source": [
    "### Windowing Functions"
   ]
  },
  {
   "cell_type": "code",
   "execution_count": 20,
   "metadata": {},
   "outputs": [],
   "source": [
    "def check_window(measures):\n",
    "    \"\"\"Given a window in a piece, check it for 4-Z29 or 4-Z15. If we find it in the window, returns the measure numbers \n",
    "    that are being evalutated and the pitch_set that was found as the Z-relation. \n",
    "    \n",
    "    This is a factorial algorithm if we use all the notes!\n",
    "    TODO: MAKE FASTER? Do we need to check every permutation? No we do not? remove duplicate notes first? Probably should add some \n",
    "    logic that takes into account ordering or something. More work to be done. \"\"\"\n",
    "    notes = list(set(pitch.Pitch(n.name) for n in measures.flatten().getElementsByClass(note.Note)))\n",
    "    z_relations = []\n",
    "    seen = []\n",
    "    for n in permutations(notes, r=4):\n",
    "        if pitch_to_int_vec(n) == [1,1,1,1,1,1]: # we have found a z-relation\n",
    "         # but we are checking every permutation. There are going to be like 1000 out of order duplicates, we need to get rid of these\n",
    "            pitches = set(x.pitchClass for x in n)\n",
    "            if pitches in seen:\n",
    "                continue\n",
    "            else:\n",
    "                if n in z_relations:\n",
    "                    continue\n",
    "                z_relations.append(n)\n",
    "                seen.append(pitches)\n",
    "    return z_relations"
   ]
  },
  {
   "cell_type": "code",
   "execution_count": 21,
   "metadata": {},
   "outputs": [
    {
     "data": {
      "text/plain": [
       "[(<music21.pitch.Pitch E>,\n",
       "  <music21.pitch.Pitch G#>,\n",
       "  <music21.pitch.Pitch F>,\n",
       "  <music21.pitch.Pitch B->)]"
      ]
     },
     "execution_count": 21,
     "metadata": {},
     "output_type": "execute_result"
    }
   ],
   "source": [
    "check_window(carter.measures(0,3),)"
   ]
  },
  {
   "attachments": {},
   "cell_type": "markdown",
   "metadata": {},
   "source": [
    "# Main Function"
   ]
  },
  {
   "cell_type": "code",
   "execution_count": 22,
   "metadata": {},
   "outputs": [],
   "source": [
    "def find_Z_relation(sc, window):\n",
    "    \"\"\"Given a score object and a window in numer of measures, identifies and labels where Z relations occur in the piece. \n",
    "    Returns a dictionary that maps windowed measure numbers to Z-relations.\"\"\"\n",
    "    total_measures = len(sc.getElementsByClass(stream.Measure)) # TODO: FIX THIS idk why there are no measures rn\n",
    "    total_measures = 20 # just for now, take out later\n",
    "    shift_len = int(window/2)\n",
    "    cur_measure = 0\n",
    "    Z_rel_dict = {}\n",
    "    while cur_measure < total_measures:\n",
    "        checked = check_window(sc.measures(cur_measure, cur_measure+window))\n",
    "        if len(checked) !=0:\n",
    "            Z_rel_dict[(cur_measure, cur_measure+window)] = checked\n",
    "        cur_measure += shift_len\n",
    "    return Z_rel_dict\n",
    "        \n"
   ]
  },
  {
   "cell_type": "code",
   "execution_count": 23,
   "metadata": {},
   "outputs": [
    {
     "name": "stdout",
     "output_type": "stream",
     "text": [
      "test\n"
     ]
    }
   ],
   "source": [
    "find_Z_relation(carter, 2)\n",
    "print('test')"
   ]
  },
  {
   "cell_type": "code",
   "execution_count": 24,
   "metadata": {},
   "outputs": [
    {
     "name": "stdout",
     "output_type": "stream",
     "text": [
      "test\n"
     ]
    }
   ],
   "source": [
    "bach = corpus.parse('bwv253')\n",
    "find_Z_relation(bach, 3)\n",
    "print('test')"
   ]
  },
  {
   "cell_type": "code",
   "execution_count": 25,
   "metadata": {},
   "outputs": [
    {
     "name": "stdout",
     "output_type": "stream",
     "text": [
      "test\n"
     ]
    }
   ],
   "source": [
    "check_window(bach.measures(0,3))\n",
    "print('test')"
   ]
  },
  {
   "cell_type": "code",
   "execution_count": null,
   "metadata": {},
   "outputs": [],
   "source": []
  }
 ],
 "metadata": {
  "kernelspec": {
   "display_name": "base",
   "language": "python",
   "name": "python3"
  },
  "language_info": {
   "codemirror_mode": {
    "name": "ipython",
    "version": 3
   },
   "file_extension": ".py",
   "mimetype": "text/x-python",
   "name": "python",
   "nbconvert_exporter": "python",
   "pygments_lexer": "ipython3",
   "version": "3.8.8"
  },
  "orig_nbformat": 4
 },
 "nbformat": 4,
 "nbformat_minor": 2
}
