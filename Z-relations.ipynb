{
 "cells": [
  {
   "cell_type": "code",
   "execution_count": 2,
   "metadata": {},
   "outputs": [],
   "source": [
    "from music21 import *"
   ]
  },
  {
   "cell_type": "code",
   "execution_count": 3,
   "metadata": {},
   "outputs": [],
   "source": [
    "def find_Z_relation(sc):\n",
    "    \"\"\"Given a score object, identifies and labels where Z relations occur in the piece.\"\"\"\n",
    "    pass"
   ]
  },
  {
   "cell_type": "code",
   "execution_count": 4,
   "metadata": {},
   "outputs": [],
   "source": [
    "def get_interval_vector(pitch_list):\n",
    "    \"\"\"Given a list of pitches, returns the interval vector between all of the pitches\"\"\"\n",
    "    \n",
    "    pass"
   ]
  },
  {
   "attachments": {},
   "cell_type": "markdown",
   "metadata": {},
   "source": [
    "# Helper Functions"
   ]
  },
  {
   "attachments": {},
   "cell_type": "markdown",
   "metadata": {},
   "source": [
    "### - Normal Form"
   ]
  },
  {
   "cell_type": "code",
   "execution_count": 17,
   "metadata": {},
   "outputs": [],
   "source": [
    "def perm_list(pitch_list, rotation_amount=1):\n",
    "    \"\"\"Rotates a list by rotation_amount\"\"\"\n",
    "    return pitch_list[rotation_amount:] + pitch_list[:rotation_amount]"
   ]
  },
  {
   "cell_type": "code",
   "execution_count": 19,
   "metadata": {},
   "outputs": [],
   "source": [
    "def check_compactness(pitch_classes, index = -1):\n",
    "    \"\"\"Checks distance between first and last notes\"\"\"\n",
    "    return (pitch_classes[index] - pitch_classes[0]) % 12"
   ]
  },
  {
   "cell_type": "code",
   "execution_count": 29,
   "metadata": {},
   "outputs": [],
   "source": [
    "def check_equal(list1, list2, index):\n",
    "    \"\"\"Checks equality if there is a tie for the best intervals between pitches when finding the normal form\"\"\"\n",
    "    if index == -len(list1): # if the lists have equal pitches classes all the way down. Take the one with the lowest starting pitch class\n",
    "        if list1[0] < list2[0]:\n",
    "            return list1\n",
    "        return list2\n",
    "    if check_compactness(list1, index) == check_compactness(list2, index):\n",
    "        return check_equal(list1, list2, index-1)\n",
    "    elif check_compactness(list1, index) < check_compactness(list2, index):\n",
    "        return list1\n",
    "    return list2"
   ]
  },
  {
   "cell_type": "code",
   "execution_count": 36,
   "metadata": {},
   "outputs": [],
   "source": [
    "def reduce_to_normal_form(pitch_list):\n",
    "    \"\"\"\n",
    "    Given a list of musci21 pitch objects, reduces them to their normal form as a \n",
    "    list of integers.\n",
    "    \"\"\"\n",
    "    pitch_classes = sorted(list(set(x.pitchClass for x in pitch_list)))\n",
    "    best_interval, normal_form = check_compactness(pitch_classes), pitch_classes\n",
    "    for i in range(len(pitch_classes)):\n",
    "        rotation = perm_list(pitch_classes, i)\n",
    "        compactness = check_compactness(rotation)\n",
    "        if compactness < best_interval:\n",
    "            best_interval = compactness\n",
    "            normal_form = rotation\n",
    "        if compactness == best_interval:\n",
    "            normal_form = check_equal(normal_form, rotation, index=-2)\n",
    "    return normal_form\n"
   ]
  },
  {
   "cell_type": "code",
   "execution_count": 49,
   "metadata": {},
   "outputs": [],
   "source": [
    "# Tests for normal form\n",
    "def test_normal_form():\n",
    "    \"\"\"Runs test cases for the reduction to normal form\"\"\"\n",
    "    P = pitch.Pitch\n",
    "    pc_ex = [P('C4'), P('C#4'), P('C3'), P('B3')]\n",
    "    pc1 = [P('Ab4'), P('D4'),P('Eb5'), P('A4')]\n",
    "    pc2 = [P('B5'), P('G4'), P('D5'), P('Eb'), P('D6')]\n",
    "    assert reduce_to_normal_form(pc1) == [2,3,8,9]\n",
    "    assert reduce_to_normal_form(pc_ex) == [11,0,1]\n",
    "    assert reduce_to_normal_form(pc2) == [11,2,3,7]\n",
    "    pass\n",
    "test_normal_form()"
   ]
  },
  {
   "attachments": {},
   "cell_type": "markdown",
   "metadata": {},
   "source": [
    "### - Prime Form"
   ]
  },
  {
   "cell_type": "markdown",
   "metadata": {},
   "source": []
  }
 ],
 "metadata": {
  "kernelspec": {
   "display_name": "base",
   "language": "python",
   "name": "python3"
  },
  "language_info": {
   "codemirror_mode": {
    "name": "ipython",
    "version": 3
   },
   "file_extension": ".py",
   "mimetype": "text/x-python",
   "name": "python",
   "nbconvert_exporter": "python",
   "pygments_lexer": "ipython3",
   "version": "3.8.8"
  },
  "orig_nbformat": 4
 },
 "nbformat": 4,
 "nbformat_minor": 2
}
